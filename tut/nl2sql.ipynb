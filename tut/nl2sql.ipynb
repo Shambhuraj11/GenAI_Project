{
 "cells": [
  {
   "cell_type": "code",
   "execution_count": 1,
   "metadata": {},
   "outputs": [],
   "source": [
    "import os \n",
    "import sqlite3 "
   ]
  },
  {
   "cell_type": "code",
   "execution_count": 2,
   "metadata": {},
   "outputs": [],
   "source": [
    "from langchain_community.utilities.sql_database import SQLDatabase\n",
    "from pyprojroot import here # IMP\n",
    "db_path = str(here(\"data\")) + \"/student.db\"\n",
    "db = SQLDatabase.from_uri(f\"sqlite:///{db_path}\")"
   ]
  },
  {
   "cell_type": "code",
   "execution_count": 3,
   "metadata": {},
   "outputs": [
    {
     "name": "stdout",
     "output_type": "stream",
     "text": [
      "\n",
      "CREATE TABLE \"STUDENT\" (\n",
      "\t\"NAME\" VARCHAR(25), \n",
      "\t\"CLASS\" VARCHAR(25), \n",
      "\t\"SECTION\" VARCHAR(25), \n",
      "\t\"MARKS\" INTEGER\n",
      ")\n",
      "\n",
      "/*\n",
      "3 rows from STUDENT table:\n",
      "NAME\tCLASS\tSECTION\tMARKS\n",
      "Krish\tData Science\tA\t90\n",
      "Salman\tCS\tB\t60\n",
      "Sunny\tData Science\tD\t70\n",
      "*/\n"
     ]
    }
   ],
   "source": [
    "print(db.get_table_info())"
   ]
  },
  {
   "cell_type": "code",
   "execution_count": 4,
   "metadata": {},
   "outputs": [
    {
     "data": {
      "text/plain": [
       "<bound method SQLDatabase.get_usable_table_names of <langchain_community.utilities.sql_database.SQLDatabase object at 0x00000200376EE350>>"
      ]
     },
     "execution_count": 4,
     "metadata": {},
     "output_type": "execute_result"
    }
   ],
   "source": [
    "db.get_usable_table_names"
   ]
  },
  {
   "cell_type": "code",
   "execution_count": 5,
   "metadata": {},
   "outputs": [],
   "source": [
    "from langchain.chains import create_sql_query_chain\n",
    "from langchain_groq import ChatGroq\n",
    "os.environ['GROQ_API_KEY'] = os.getenv('GROQ_API_KEY')"
   ]
  },
  {
   "cell_type": "code",
   "execution_count": 6,
   "metadata": {},
   "outputs": [],
   "source": [
    "llm = ChatGroq(model=\"llama-3.2-11b-text-preview\")"
   ]
  },
  {
   "cell_type": "code",
   "execution_count": 31,
   "metadata": {},
   "outputs": [],
   "source": []
  },
  {
   "cell_type": "markdown",
   "metadata": {},
   "source": [
    "### NO use as static prompt"
   ]
  },
  {
   "cell_type": "code",
   "execution_count": 7,
   "metadata": {},
   "outputs": [
    {
     "name": "stdout",
     "output_type": "stream",
     "text": [
      "SELECT COUNT(\"NAME\") \n",
      "FROM \"STUDENT\" \n",
      "WHERE \"CLASS\" = 'Data Science'\n"
     ]
    }
   ],
   "source": [
    "# First Test\n",
    "sql_chain = create_sql_query_chain(llm,db)\n",
    "\n",
    "sql_cmd = sql_chain.invoke({\"question\":\"Tell me number of students from class data science\"})\n",
    "print(sql_cmd)"
   ]
  },
  {
   "cell_type": "code",
   "execution_count": 8,
   "metadata": {},
   "outputs": [
    {
     "data": {
      "text/plain": [
       "'[(6,)]'"
      ]
     },
     "execution_count": 8,
     "metadata": {},
     "output_type": "execute_result"
    }
   ],
   "source": [
    "# TO run command on SQL DB\n",
    "from langchain_community.tools.sql_database.tool import QuerySQLDataBaseTool\n",
    "exe_query = QuerySQLDataBaseTool(db=db)\n",
    "exe_query.invoke(sql_cmd)\n",
    "# checker.invoke(sql_cmd)"
   ]
  },
  {
   "cell_type": "code",
   "execution_count": 9,
   "metadata": {},
   "outputs": [
    {
     "data": {
      "text/plain": [
       "'[(6,)]'"
      ]
     },
     "execution_count": 9,
     "metadata": {},
     "output_type": "execute_result"
    }
   ],
   "source": [
    "chain = sql_chain|exe_query\n",
    "chain.invoke({\"question\":\"Tell me number of students from class data science\"})"
   ]
  },
  {
   "cell_type": "code",
   "execution_count": 10,
   "metadata": {},
   "outputs": [
    {
     "name": "stdout",
     "output_type": "stream",
     "text": [
      "You are a SQLite expert. Given an input question, first create a syntactically correct SQLite query to run, then look at the results of the query and return the answer to the input question.\n",
      "Unless the user specifies in the question a specific number of examples to obtain, query for at most {top_k} results using the LIMIT clause as per SQLite. You can order the results to return the most informative data in the database.\n",
      "Never query for all columns from a table. You must query only the columns that are needed to answer the question. Wrap each column name in double quotes (\") to denote them as delimited identifiers.\n",
      "Pay attention to use only the column names you can see in the tables below. Be careful to not query for columns that do not exist. Also, pay attention to which column is in which table.\n",
      "Pay attention to use date('now') function to get the current date, if the question involves \"today\".\n",
      "\n",
      "Use the following format:\n",
      "\n",
      "Question: Question here\n",
      "SQLQuery: SQL Query to run\n",
      "SQLResult: Result of the SQLQuery\n",
      "Answer: Final answer here\n",
      "\n",
      "Only use the following tables:\n",
      "{table_info}\n",
      "\n",
      "Question: {input}\n"
     ]
    }
   ],
   "source": [
    "# Default Prompt\n",
    "print(chain.get_prompts()[0].template)"
   ]
  },
  {
   "cell_type": "code",
   "execution_count": 11,
   "metadata": {},
   "outputs": [],
   "source": [
    "# Customize Prompt for output\n",
    "\n",
    "from operator import itemgetter\n",
    "from langchain_core.prompts import PromptTemplate\n",
    "from langchain_core.output_parsers import StrOutputParser\n",
    "from langchain_core.runnables import RunnablePassthrough\n",
    "\n",
    "\n",
    "answer_prompt = PromptTemplate.from_template(\"\"\"\n",
    "Given the following user question, corresponding sql query, and SQL result. Answer from user point of view and avoid mention of SQL query\n",
    "If you don't find the answer ask user to repharse question.\n",
    "Question:{question}\n",
    "SQL_query:{query}\n",
    "SQL_Result:{result}\n",
    "Answer:\n",
    "\"\"\")"
   ]
  },
  {
   "cell_type": "code",
   "execution_count": 21,
   "metadata": {},
   "outputs": [
    {
     "data": {
      "text/plain": [
       "'The class for student Suman is Chemical.'"
      ]
     },
     "execution_count": 21,
     "metadata": {},
     "output_type": "execute_result"
    }
   ],
   "source": [
    "rephrase_answer = answer_prompt | llm |StrOutputParser()\n",
    "\n",
    "final_chain = (\n",
    "    RunnablePassthrough.assign(query=sql_chain).assign(\n",
    "        result = itemgetter(\"query\") | exe_query\n",
    "    )|rephrase_answer\n",
    ")\n",
    "\n",
    "final_chain.invoke({\"question\":\"\"})"
   ]
  },
  {
   "cell_type": "markdown",
   "metadata": {},
   "source": [
    "### IMP"
   ]
  },
  {
   "cell_type": "code",
   "execution_count": 7,
   "metadata": {},
   "outputs": [],
   "source": [
    "## Adding few shot examples\n",
    "\n",
    "examples = [\n",
    "    {\n",
    "        \"input\":\"How many entries of records are present?\",\n",
    "        \"query\":\"SELECT COUNT(*) from STUDENT;\"\n",
    "    },\n",
    "    {\n",
    "        \"input\":\"Tell me all the students studying  in Data  science class?\",\n",
    "        \"query\":\"SELECT * FROM STUDENT WHERE CLASS='Data Science';\"\n",
    "    },\n",
    "    {\n",
    "        \"input\":\"Tell me number of the students studying in all class?\",\n",
    "        \"query\":\"SELECT count(*) FROM STUDENT;\"\n",
    "    },\n",
    "    {\n",
    "        \"input\":\"Tell me name of the students studying in mba class?\",\n",
    "        \"query\":\"SELECT NAME FROM STUDENT where class='MBA';\"\n",
    "    }\n",
    "]"
   ]
  },
  {
   "cell_type": "code",
   "execution_count": null,
   "metadata": {},
   "outputs": [],
   "source": [
    "from langchain_core.prompts import ChatPromptTemplate,MessagesPlaceholder,FewShotChatMessagePromptTemplate\n",
    "\n",
    "example_prompt_temp = ChatPromptTemplate.from_messages([\n",
    "    (\"human\",\"{input}\\nSQL Query:\"),\n",
    "    (\"ai\",\"{query}\")\n",
    "])\n",
    "\n",
    "few_shot_prompt = FewShotChatMessagePromptTemplate(\n",
    "    example_prompt = example_prompt_temp,\n",
    "    examples = examples,\n",
    "    input_variables = ['input']\n",
    "\n",
    ")\n",
    "print(few_shot_prompt.format(input=\"How many students are there?\"))"
   ]
  },
  {
   "cell_type": "code",
   "execution_count": null,
   "metadata": {},
   "outputs": [],
   "source": [
    "### Dynamic Fewshot Example selection\n",
    "\n",
    "from langchain_community.vectorstores import Chroma\n",
    "from langchain_core.example_selectors import SemanticSimilarityExampleSelector\n",
    "from langchain_huggingface.embeddings import HuggingFaceEmbeddings\n",
    "\n",
    "vector_store = Chroma()\n",
    "vector_store.delete_collection()\n",
    "example_selector = SemanticSimilarityExampleSelector.from_examples(\n",
    "    examples,\n",
    "    HuggingFaceEmbeddings(model_name = \"all-MiniLM-L6-v2\"),\n",
    "    vector_store,\n",
    "    k = 2,\n",
    "    input_keys = ['input'],\n",
    ")\n",
    "\n",
    "example_selector.select_examples({\"input\":\"Tell me name of student with lowest marks across all classes\"})"
   ]
  },
  {
   "cell_type": "code",
   "execution_count": null,
   "metadata": {},
   "outputs": [],
   "source": [
    "sorted_shot_prompt = FewShotChatMessagePromptTemplate(\n",
    "    example_prompt = example_prompt_temp,\n",
    "    example_selector=example_selector,\n",
    "    input_variables = ['input','top_k']\n",
    "\n",
    ")\n",
    "print(sorted_shot_prompt.format(input=\"How many students are there?\",top_k = 3,table_info=\"\"))"
   ]
  },
  {
   "cell_type": "code",
   "execution_count": null,
   "metadata": {},
   "outputs": [],
   "source": [
    "# Customizing Prompt"
   ]
  },
  {
   "cell_type": "code",
   "execution_count": null,
   "metadata": {},
   "outputs": [],
   "source": [
    "final_prompt = ChatPromptTemplate.from_messages(\n",
    "     [\n",
    "         (\"system\", \"You are a MySQL expert. Given an input question, create a syntactically correct MySQL query to run. Unless otherwise specificed.\\n\\nHere is the relevant table info: {table_info}\\n\\nBelow are a number of examples of questions and their corresponding SQL queries.\"),\n",
    "         few_shot_prompt,\n",
    "         (\"human\", \"{input}\"),\n",
    "     ]\n",
    " )\n",
    "print(final_prompt.format(input=\"How many students are there?\",table_info = \"Some_info\"))"
   ]
  },
  {
   "cell_type": "code",
   "execution_count": null,
   "metadata": {},
   "outputs": [],
   "source": [
    "# Final Pipeline\n",
    "\n",
    "generate_query = create_sql_query_chain(llm,db,final_prompt)\n",
    "# from langchain_community.tools.sql_database.tool import QuerySQLDataBaseTool\n",
    "# exe_query = QuerySQLDataBaseTool(db=db)\n",
    "\n",
    "# f_chain = (\n",
    "#     RunnablePassthrough.assign(query=generate_query).assign(\n",
    "#         result = itemgetter(\"query\") |exe_query\n",
    "#     )| rephrase_answer\n",
    "# )\n",
    "\n",
    "generate_query.invoke({\"question\":\"Tell me name of students from class MBA\"})"
   ]
  },
  {
   "cell_type": "code",
   "execution_count": 22,
   "metadata": {},
   "outputs": [],
   "source": [
    "## Memory"
   ]
  },
  {
   "cell_type": "code",
   "execution_count": 31,
   "metadata": {},
   "outputs": [],
   "source": [
    "from langchain.memory import ChatMessageHistory\n",
    "\n",
    "history = ChatMessageHistory()\n",
    "\n",
    "generate_query = create_sql_query_chain(llm,db)\n",
    "chain = (\n",
    "    RunnablePassthrough.assign(query=generate_query).assign(\n",
    "        result = itemgetter(\"query\") | exe_query\n",
    "    )| rephrase_answer\n",
    "\n",
    ")"
   ]
  },
  {
   "cell_type": "code",
   "execution_count": 32,
   "metadata": {},
   "outputs": [
    {
     "data": {
      "text/plain": [
       "'There are 2 students in the MBA class.'"
      ]
     },
     "execution_count": 32,
     "metadata": {},
     "output_type": "execute_result"
    }
   ],
   "source": [
    "chain.invoke({\"question\":\"Tell me number of students of class MBA\",\"message\":history.messages})"
   ]
  },
  {
   "cell_type": "code",
   "execution_count": 33,
   "metadata": {},
   "outputs": [],
   "source": [
    "history.add_user_message(\"Tell me number of students of class MBA\")\n",
    "history.add_ai_message(\"There are 2 students in the MBA class.\")\n"
   ]
  },
  {
   "cell_type": "code",
   "execution_count": 34,
   "metadata": {},
   "outputs": [
    {
     "data": {
      "text/plain": [
       "[HumanMessage(content='Tell me number of students of class MBA', additional_kwargs={}, response_metadata={}),\n",
       " AIMessage(content='There are 2 students in the MBA class.', additional_kwargs={}, response_metadata={})]"
      ]
     },
     "execution_count": 34,
     "metadata": {},
     "output_type": "execute_result"
    }
   ],
   "source": [
    "history.messages"
   ]
  },
  {
   "cell_type": "code",
   "execution_count": 35,
   "metadata": {},
   "outputs": [
    {
     "data": {
      "text/plain": [
       "'Their names are:\\n\\n1. Krish\\n2. Salman\\n3. Sunny\\n4. Sudhanshu\\n5. swapnil\\n6. Raviraj\\n7. Gaurav\\n8. Tarun\\n9. Jay\\n10. Sanjay\\n11. Vishal\\n12. Ravi\\n13. Riya\\n14. Hardik\\n15. Suman\\n16. Raahish\\n17. Grace'"
      ]
     },
     "execution_count": 35,
     "metadata": {},
     "output_type": "execute_result"
    }
   ],
   "source": [
    "resp = chain.invoke({\"question\":\"Can you list their names?\",\"messages\":history.messages}\n",
    "                    )\n",
    "resp"
   ]
  },
  {
   "cell_type": "code",
   "execution_count": null,
   "metadata": {},
   "outputs": [],
   "source": []
  },
  {
   "cell_type": "code",
   "execution_count": null,
   "metadata": {},
   "outputs": [],
   "source": []
  },
  {
   "cell_type": "code",
   "execution_count": null,
   "metadata": {},
   "outputs": [],
   "source": []
  },
  {
   "cell_type": "code",
   "execution_count": null,
   "metadata": {},
   "outputs": [],
   "source": []
  },
  {
   "cell_type": "code",
   "execution_count": null,
   "metadata": {},
   "outputs": [],
   "source": []
  },
  {
   "cell_type": "code",
   "execution_count": null,
   "metadata": {},
   "outputs": [],
   "source": []
  },
  {
   "cell_type": "code",
   "execution_count": null,
   "metadata": {},
   "outputs": [],
   "source": []
  }
 ],
 "metadata": {
  "kernelspec": {
   "display_name": "llms_env",
   "language": "python",
   "name": "python3"
  },
  "language_info": {
   "codemirror_mode": {
    "name": "ipython",
    "version": 3
   },
   "file_extension": ".py",
   "mimetype": "text/x-python",
   "name": "python",
   "nbconvert_exporter": "python",
   "pygments_lexer": "ipython3",
   "version": "3.10.0"
  }
 },
 "nbformat": 4,
 "nbformat_minor": 2
}
